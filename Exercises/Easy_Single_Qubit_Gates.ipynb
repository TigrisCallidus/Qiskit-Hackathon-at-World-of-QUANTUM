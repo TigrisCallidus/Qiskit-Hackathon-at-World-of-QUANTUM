{
 "cells": [
  {
   "cell_type": "code",
   "execution_count": 1,
   "id": "f4422666",
   "metadata": {},
   "outputs": [
    {
     "ename": "ModuleNotFoundError",
     "evalue": "No module named 'ibm_quantum_widgets'",
     "output_type": "error",
     "traceback": [
      "\u001b[0;31m---------------------------------------------------------------------------\u001b[0m",
      "\u001b[0;31mModuleNotFoundError\u001b[0m                       Traceback (most recent call last)",
      "Input \u001b[0;32mIn [1]\u001b[0m, in \u001b[0;36m<module>\u001b[0;34m\u001b[0m\n\u001b[1;32m      6\u001b[0m \u001b[38;5;28;01mfrom\u001b[39;00m \u001b[38;5;21;01mqiskit\u001b[39;00m\u001b[38;5;21;01m.\u001b[39;00m\u001b[38;5;21;01mtools\u001b[39;00m\u001b[38;5;21;01m.\u001b[39;00m\u001b[38;5;21;01mjupyter\u001b[39;00m \u001b[38;5;28;01mimport\u001b[39;00m \u001b[38;5;241m*\u001b[39m\n\u001b[1;32m      7\u001b[0m \u001b[38;5;28;01mfrom\u001b[39;00m \u001b[38;5;21;01mqiskit\u001b[39;00m\u001b[38;5;21;01m.\u001b[39;00m\u001b[38;5;21;01mvisualization\u001b[39;00m \u001b[38;5;28;01mimport\u001b[39;00m \u001b[38;5;241m*\u001b[39m\n\u001b[0;32m----> 8\u001b[0m \u001b[38;5;28;01mfrom\u001b[39;00m \u001b[38;5;21;01mibm_quantum_widgets\u001b[39;00m \u001b[38;5;28;01mimport\u001b[39;00m \u001b[38;5;241m*\u001b[39m\n\u001b[1;32m     10\u001b[0m \u001b[38;5;28;01mfrom\u001b[39;00m \u001b[38;5;21;01mqiskit\u001b[39;00m\u001b[38;5;21;01m.\u001b[39;00m\u001b[38;5;21;01mextensions\u001b[39;00m \u001b[38;5;28;01mimport\u001b[39;00m Initialize\n\u001b[1;32m     11\u001b[0m \u001b[38;5;66;03m# Loading your IBM Quantum account(s)\u001b[39;00m\n",
      "\u001b[0;31mModuleNotFoundError\u001b[0m: No module named 'ibm_quantum_widgets'"
     ]
    }
   ],
   "source": [
    "import numpy as np\n",
    "import cmath\n",
    "# Importing standard Qiskit libraries\n",
    "from qiskit.quantum_info import Statevector, random_statevector\n",
    "from qiskit import QuantumCircuit, transpile, Aer, IBMQ, assemble, execute\n",
    "from qiskit.tools.jupyter import *\n",
    "from qiskit.visualization import *\n",
    "from ibm_quantum_widgets import *\n",
    "\n",
    "from qiskit.extensions import Initialize\n",
    "# Loading your IBM Quantum account(s)\n",
    "provider = IBMQ.load_account()\n"
   ]
  },
  {
   "cell_type": "markdown",
   "id": "2b9ce061",
   "metadata": {},
   "source": [
    "## 1. Basic Rotations on One Qubit and Measurements on the Bloch Sphere\n",
    "\n",
    "Before getting into complicated circuits on many qubits, let us start by looking at a single qubit. Read this chapter: https://qiskit.org/textbook/ch-states/introduction.html to learn the basics about the Bloch sphere, Pauli operators, as well as the Hadamard gate and the $S$ and $S^\\dagger$ gates. \n",
    "\n",
    "By default, states in qiskit start in $|0\\rangle$, which corresponds to \"arrow up\" on the Bloch sphere. Play around with the gates $X$, $Y$, $Z$, $H$, $S$ and $S^\\dagger$ to get a feeling for the different rotations. To do so, insert combinations of the following code lines in the lines indicated in the program:\n",
    "\n",
    "    qc.x(0)    # rotation by Pi around the x-axis\n",
    "    qc.y(0)    # rotation by Pi around the y-axis\n",
    "    qc.z(0)    # rotation by Pi around the z-axis\n",
    "    qc.s(0)    # rotation by Pi/2 around the z-axis\n",
    "    qc.sdg(0)  # rotation by -Pi/2 around the z-axis\n",
    "    qc.h(0)    # rotation by Pi around an axis located halfway between x and z\n",
    "\n",
    "Try to reach the given state in the Bloch sphere in each of the following exercises. (Press Shift + Enter to run a code cell)\n",
    "\n",
    "<b> 1.) Let us start easy by performing a bit flip. The goal is to reach the state $|1\\rangle$. <img src='state1.png' width=\"200\">"
   ]
  },
  {
   "cell_type": "code",
   "execution_count": null,
   "id": "759a6260",
   "metadata": {},
   "outputs": [],
   "source": [
    "qc = QuantumCircuit(1)\n",
    "#\n",
    "#\n",
    "#\n",
    "# FILL YOUR CODE IN HERE\n",
    "#\n",
    "#\n",
    "#\n",
    "#\n",
    "state = Statevector.from_instruction(qc)\n",
    "plot_bloch_multivector(state)\n",
    "\n"
   ]
  },
  {
   "cell_type": "markdown",
   "id": "92908bcc",
   "metadata": {},
   "source": [
    " <b> 2.) Next, we would like to create superposition. The goal is to reach the state $|+\\rangle = \\frac{1}{\\sqrt{2}}\\left(|0\\rangle + |1\\rangle\\right)$. <img src='state+.png' width=\"200\">"
   ]
  },
  {
   "cell_type": "code",
   "execution_count": null,
   "id": "960e54a3",
   "metadata": {},
   "outputs": [],
   "source": [
    "qc = QuantumCircuit(1)\n",
    "#\n",
    "#\n",
    "#\n",
    "# FILL YOUR CODE IN HERE\n",
    "#\n",
    "#\n",
    "state = Statevector.from_instruction(qc)\n",
    "plot_bloch_multivector(state)\n"
   ]
  },
  {
   "cell_type": "markdown",
   "id": "eb01ec2c",
   "metadata": {},
   "source": [
    " <b> 3.) For this exercise the goal is to reach the state $|-\\rangle = \\frac{1}{\\sqrt{2}}\\left(|0\\rangle - |1\\rangle\\right)$. Can you do that with any of the gates in Qiskit or do you need more than one? <img src='state-.png' width=\"200\">"
   ]
  },
  {
   "cell_type": "code",
   "execution_count": null,
   "id": "61e9c674",
   "metadata": {},
   "outputs": [],
   "source": [
    "qc = QuantumCircuit(1)\n",
    "#\n",
    "#\n",
    "# FILL YOUR CODE IN HERE\n",
    "#\n",
    "#\n",
    "\n",
    "state = Statevector.from_instruction(qc)\n",
    "plot_bloch_multivector(state)"
   ]
  },
  {
   "cell_type": "markdown",
   "id": "db0c6d84",
   "metadata": {},
   "source": [
    "## 2. Measurements\n",
    "\n",
    "In order to measure our results we need to store the quantum information in classical bits. We do this by writing a Quantum Circuit: `QuantumCircuit(m,n)`. Where `m` respresent the qubits and `n` the classical bits. These bits can then be read out during multiple runs, these then gives us a statistical representation of our quantum state. (In this exercise set we consider `m` and `n` to be `1`.)"
   ]
  },
  {
   "cell_type": "markdown",
   "id": "9b18a712",
   "metadata": {},
   "source": [
    "<b> 1.) Measure the state below\n",
    "    <img src='meas_state.png' width=\"200\">"
   ]
  },
  {
   "cell_type": "code",
   "execution_count": null,
   "id": "9b392a30",
   "metadata": {},
   "outputs": [],
   "source": [
    "qc=QuantumCircuit(1,1)\n",
    "qc.u3(np.pi/4,np.pi/4,np.pi/4,0)\n",
    "\n",
    "\n",
    "#\n",
    "# FILL YOUR CODE IN HERE\n",
    "#\n",
    "#\n",
    "#\n",
    "\n",
    "\n",
    "\n",
    "backend = Aer.get_backend('qasm_simulator') # we choose the simulator as our backend\n",
    "Counts = execute(qc, backend, shots = 1024,  seed_simulator=312).result().get_counts() # we run the simulation and get the counts\n",
    "plot_histogram(Counts) # let us plot a histogram to see the possible outcomes and corresponding probabilities\n"
   ]
  },
  {
   "cell_type": "markdown",
   "id": "d3046956",
   "metadata": {},
   "source": [
    "## <i>Bonus: Tomography</i>\n",
    " \n",
    " \n",
    " From the exercise at the top it can me made clear to simply doing a measurement in the $ \\{ |0\\rangle,|1\\rangle\\} $-basis will not tell you in which state you were exactly. It will give you at best the projection on this basis. This means that you will lose crucial information about the phase of your qubit. In this bonus exercise we will perform a process called 'state tomography'. Here instead of performing measurements in the $ \\{ |0\\rangle,|1\\rangle\\} $-basis, we will also measure the projection of the state in the $ \\{ |+\\rangle,|-\\rangle\\} $ and the $ \\{ |+y\\rangle,|-y\\rangle\\} $- basis. \n",
    " \n",
    " You will be give a random state using the `random_state` command"
   ]
  },
  {
   "cell_type": "code",
   "execution_count": null,
   "id": "423a68f6",
   "metadata": {},
   "outputs": [],
   "source": [
    "psi = random_statevector(2, seed=11)\n",
    "init_gate = Initialize(psi)\n",
    "init_gate.label = \"Random State\"\n",
    "\n",
    "\n",
    "\n",
    "## Measure the state in the x,y,z basis and make a guess for the state_vector psi\n",
    "\n",
    "#Measure in all three different bases\n",
    "\n",
    "\n",
    "\n",
    "\n",
    "#Put your answer here\n",
    "#Try to remove any global phase in your answer\n",
    "phi=\n",
    "theta=\n",
    "\n",
    "\n"
   ]
  },
  {
   "cell_type": "markdown",
   "id": "77035842",
   "metadata": {},
   "source": [
    "Find the two angles such that the state can be written as:\n",
    "$$\n",
    "|\\psi\\rangle = \\begin{pmatrix}\n",
    " \\cos(\\theta/2)\\\\\n",
    " e^{i\\phi}\\sin(\\theta/2)\n",
    "\\end{pmatrix}\n",
    "$$"
   ]
  },
  {
   "cell_type": "code",
   "execution_count": null,
   "id": "6b00979c",
   "metadata": {},
   "outputs": [],
   "source": [
    "angles : [phi,theta]\n"
   ]
  }
 ],
 "metadata": {
  "kernelspec": {
   "display_name": "Python 3 (ipykernel)",
   "language": "python",
   "name": "python3"
  },
  "language_info": {
   "codemirror_mode": {
    "name": "ipython",
    "version": 3
   },
   "file_extension": ".py",
   "mimetype": "text/x-python",
   "name": "python",
   "nbconvert_exporter": "python",
   "pygments_lexer": "ipython3",
   "version": "3.8.12"
  },
  "widgets": {
   "application/vnd.jupyter.widget-state+json": {
    "state": {},
    "version_major": 2,
    "version_minor": 0
   }
  }
 },
 "nbformat": 4,
 "nbformat_minor": 5
}
